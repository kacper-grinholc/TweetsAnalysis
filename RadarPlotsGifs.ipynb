{
 "cells": [
  {
   "cell_type": "code",
   "execution_count": 1,
   "id": "18fb58f6-4305-4289-bd7e-4c9f1e2e13c3",
   "metadata": {},
   "outputs": [],
   "source": [
    "from PIL import Image\n",
    "from IPython.display import Image as Gif\n",
    "import matplotlib.pyplot as plt\n",
    "from imageio import imread"
   ]
  },
  {
   "cell_type": "code",
   "execution_count": 2,
   "id": "ffb97cf7-e352-460b-bd44-808ad3427d2a",
   "metadata": {},
   "outputs": [
    {
     "name": "stdout",
     "output_type": "stream",
     "text": [
      "Ukraine June\n",
      "Ukraine July\n",
      "Ukraine August\n",
      "Ukraine September\n",
      "Ukraine October\n",
      "Ukraine November\n",
      "Ukraine December\n",
      "Ukraine January\n",
      "Ukraine February\n",
      "Ukraine March\n",
      "Ukraine April\n",
      "Ukraine May\n",
      "Russia June\n",
      "Russia July\n",
      "Russia August\n",
      "Russia September\n",
      "Russia October\n",
      "Russia November\n",
      "Russia December\n",
      "Russia January\n",
      "Russia February\n",
      "Russia March\n",
      "Russia April\n",
      "Russia May\n",
      "Poland June\n",
      "Poland July\n",
      "Poland August\n",
      "Poland September\n",
      "Poland October\n",
      "Poland November\n",
      "Poland December\n",
      "Poland January\n",
      "Poland February\n",
      "Poland March\n",
      "Poland April\n",
      "Poland May\n",
      "Israel June\n",
      "Israel July\n",
      "Israel August\n",
      "Israel September\n",
      "Israel October\n",
      "Israel November\n",
      "Israel December\n",
      "Israel January\n",
      "Israel February\n",
      "Israel March\n",
      "Israel April\n",
      "Israel May\n",
      "Turkey June\n",
      "Turkey July\n",
      "Turkey August\n",
      "Turkey September\n",
      "Turkey October\n",
      "Turkey November\n",
      "Turkey December\n",
      "Turkey January\n",
      "Turkey February\n",
      "Turkey March\n",
      "Turkey April\n",
      "Turkey May\n"
     ]
    }
   ],
   "source": [
    "year = [\"June\", \"July\", \"August\",\"September\", \"October\", \"November\", \"December\", \"January\", \"February\", \"March\", \"April\", \"May\"]\n",
    "hashtags = ['Ukraine', 'Russia', 'Poland', 'Israel', 'Turkey']\n",
    "Image.MAX_IMAGE_PIXELS = None\n",
    "for country in hashtags:\n",
    "    images = []\n",
    "    for month in year:\n",
    "        print(country, month)\n",
    "        images.append(Image.open(\"RadarPlots/\" + country + \"/\" + month +  \".png\"))\n",
    "    images[0].save(\"RadarGifs/\" + country + \".gif\", save_all=True, append_images=images[1:], duration=1000, loop=0)"
   ]
  },
  {
   "cell_type": "code",
   "execution_count": 9,
   "id": "a2cf9113-f705-46b3-9732-37a91acf6603",
   "metadata": {},
   "outputs": [],
   "source": [
    "# Gif(\"RadarGifs/Ukraine.gif\")\n",
    "# Gif(\"RadarGifs/Russia.gif\")\n",
    "# Gif(\"RadarGifs/Turkey.gif\")\n",
    "# Gif(\"RadarGifs/Poland.gif\")\n",
    "# Gif(\"RadarGifs/Israel.gif\")"
   ]
  }
 ],
 "metadata": {
  "kernelspec": {
   "display_name": "Python 3 (ipykernel)",
   "language": "python",
   "name": "python3"
  },
  "language_info": {
   "codemirror_mode": {
    "name": "ipython",
    "version": 3
   },
   "file_extension": ".py",
   "mimetype": "text/x-python",
   "name": "python",
   "nbconvert_exporter": "python",
   "pygments_lexer": "ipython3",
   "version": "3.10.7"
  }
 },
 "nbformat": 4,
 "nbformat_minor": 5
}
